{
 "cells": [
  {
   "cell_type": "markdown",
   "metadata": {},
   "source": [
    "# MEMO\n",
    "- 「公司名稱」、「主要產品、服務內容」主要關係個人從事的行業\n",
    "- 「部門」、「職位」、「詳細工作內容」主要關係個人的職業。"
   ]
  },
  {
   "cell_type": "markdown",
   "metadata": {},
   "source": [
    "- x01：受訪者編號\n",
    "- a08a01：行業編碼 [測試資料集無此欄位]\n",
    "- a08a02：職業編碼 [測試資料集無此欄位]\n",
    "- k_a08a_1：公司名稱\n",
    "- k_a08a_2：主要產品、服務內容 （切）\n",
    "- k_a08a_3：部門\n",
    "- k_a08a_4：職位\n",
    "- k_a08a_5：詳細工作內容 （切）\n",
    "- fix：公司名稱是否變造，1=有變造。為避免受訪者身份被識別，因此對於原資料中填答的名稱遮蔽或變造。"
   ]
  },
  {
   "cell_type": "markdown",
   "metadata": {},
   "source": [
    "# EDA"
   ]
  },
  {
   "cell_type": "code",
   "execution_count": 1,
   "metadata": {},
   "outputs": [],
   "source": [
    "import pandas as pd\n",
    "import matplotlib.pyplot as plt"
   ]
  },
  {
   "cell_type": "code",
   "execution_count": 3,
   "metadata": {},
   "outputs": [],
   "source": [
    "# load the data\n",
    "train = pd.read_excel(\"/Users/chengtzuhsuan/Statistical-Learning/final_project_1/2019sl/train.xlsx\")\n",
    "test = pd.read_excel(\"/Users/chengtzuhsuan/Statistical-Learning/final_project_1/2019sl/test.xlsx\")"
   ]
  },
  {
   "cell_type": "code",
   "execution_count": 10,
   "metadata": {},
   "outputs": [
    {
     "name": "stdout",
     "output_type": "stream",
     "text": [
      "train: (3200, 9)\n",
      "test: (743, 7)\n"
     ]
    },
    {
     "data": {
      "text/html": [
       "<div>\n",
       "<style scoped>\n",
       "    .dataframe tbody tr th:only-of-type {\n",
       "        vertical-align: middle;\n",
       "    }\n",
       "\n",
       "    .dataframe tbody tr th {\n",
       "        vertical-align: top;\n",
       "    }\n",
       "\n",
       "    .dataframe thead th {\n",
       "        text-align: right;\n",
       "    }\n",
       "</style>\n",
       "<table border=\"1\" class=\"dataframe\">\n",
       "  <thead>\n",
       "    <tr style=\"text-align: right;\">\n",
       "      <th></th>\n",
       "      <th>x01</th>\n",
       "      <th>a08a01</th>\n",
       "      <th>a08a02</th>\n",
       "      <th>k_a08a_1</th>\n",
       "      <th>k_a08a_2</th>\n",
       "      <th>k_a08a_3</th>\n",
       "      <th>k_a08a_4</th>\n",
       "      <th>k_a08a_5</th>\n",
       "      <th>fix</th>\n",
       "    </tr>\n",
       "  </thead>\n",
       "  <tbody>\n",
       "    <tr>\n",
       "      <th>0</th>\n",
       "      <td>100202</td>\n",
       "      <td>47</td>\n",
       "      <td>4311</td>\n",
       "      <td>大潤發總公司</td>\n",
       "      <td>大賣場</td>\n",
       "      <td>會計部</td>\n",
       "      <td>會計</td>\n",
       "      <td>總計發票</td>\n",
       "      <td>0</td>\n",
       "    </tr>\n",
       "    <tr>\n",
       "      <th>1</th>\n",
       "      <td>100221</td>\n",
       "      <td>47</td>\n",
       "      <td>5140</td>\n",
       "      <td>台灣資生堂股份有限公司</td>\n",
       "      <td>化粧品販售</td>\n",
       "      <td>無</td>\n",
       "      <td>美容顧問</td>\n",
       "      <td>販售化粧品丶護膚</td>\n",
       "      <td>0</td>\n",
       "    </tr>\n",
       "    <tr>\n",
       "      <th>2</th>\n",
       "      <td>100401</td>\n",
       "      <td>26</td>\n",
       "      <td>7993</td>\n",
       "      <td>宏偉科技</td>\n",
       "      <td>Ic加工</td>\n",
       "      <td>品管</td>\n",
       "      <td>無</td>\n",
       "      <td>檢查完成品</td>\n",
       "      <td>0</td>\n",
       "    </tr>\n",
       "    <tr>\n",
       "      <th>3</th>\n",
       "      <td>100411</td>\n",
       "      <td>56</td>\n",
       "      <td>5296</td>\n",
       "      <td>台灣第一家塩酥雞</td>\n",
       "      <td>食物</td>\n",
       "      <td>無</td>\n",
       "      <td>無</td>\n",
       "      <td>炸料收錢</td>\n",
       "      <td>0</td>\n",
       "    </tr>\n",
       "    <tr>\n",
       "      <th>4</th>\n",
       "      <td>100421</td>\n",
       "      <td>47</td>\n",
       "      <td>5220</td>\n",
       "      <td>统一超商</td>\n",
       "      <td>零售日用品</td>\n",
       "      <td>無</td>\n",
       "      <td>店員</td>\n",
       "      <td>收銀排貨售貨</td>\n",
       "      <td>0</td>\n",
       "    </tr>\n",
       "  </tbody>\n",
       "</table>\n",
       "</div>"
      ],
      "text/plain": [
       "      x01  a08a01  a08a02     k_a08a_1 k_a08a_2 k_a08a_3 k_a08a_4  k_a08a_5  \\\n",
       "0  100202      47    4311       大潤發總公司      大賣場      會計部       會計      總計發票   \n",
       "1  100221      47    5140  台灣資生堂股份有限公司    化粧品販售        無     美容顧問  販售化粧品丶護膚   \n",
       "2  100401      26    7993         宏偉科技     Ic加工       品管        無     檢查完成品   \n",
       "3  100411      56    5296     台灣第一家塩酥雞       食物        無        無      炸料收錢   \n",
       "4  100421      47    5220         统一超商    零售日用品        無       店員    收銀排貨售貨   \n",
       "\n",
       "   fix  \n",
       "0    0  \n",
       "1    0  \n",
       "2    0  \n",
       "3    0  \n",
       "4    0  "
      ]
     },
     "execution_count": 10,
     "metadata": {},
     "output_type": "execute_result"
    }
   ],
   "source": [
    "# check the shape of train & test\n",
    "print(\"train:\", train.shape)\n",
    "print(\"test:\", test.shape)\n",
    "train.head()"
   ]
  },
  {
   "cell_type": "code",
   "execution_count": 8,
   "metadata": {},
   "outputs": [
    {
     "name": "stdout",
     "output_type": "stream",
     "text": [
      "description --\n",
      "                 x01       a08a01       a08a02          fix\n",
      "count  3.200000e+03  3200.000000  3200.000000  3200.000000\n",
      "mean   4.659662e+07    58.701875  4772.611250     0.069687\n",
      "std    2.854879e+07    99.104486  2364.579171     0.254659\n",
      "min    1.002020e+05     1.000000   112.000000     0.000000\n",
      "25%    2.273085e+07    27.000000  3118.000000     0.000000\n",
      "50%    4.272025e+07    47.000000  4311.000000     0.000000\n",
      "75%    7.102230e+07    71.000000  7114.000000     0.000000\n",
      "max    9.733620e+07   998.000000  9998.000000     1.000000 \n",
      "\n",
      " information --\n",
      "\n",
      "<class 'pandas.core.frame.DataFrame'>\n",
      "RangeIndex: 3200 entries, 0 to 3199\n",
      "Data columns (total 9 columns):\n",
      "x01         3200 non-null int64\n",
      "a08a01      3200 non-null int64\n",
      "a08a02      3200 non-null int64\n",
      "k_a08a_1    3200 non-null object\n",
      "k_a08a_2    3200 non-null object\n",
      "k_a08a_3    3200 non-null object\n",
      "k_a08a_4    3200 non-null object\n",
      "k_a08a_5    3200 non-null object\n",
      "fix         3200 non-null int64\n",
      "dtypes: int64(4), object(5)\n",
      "memory usage: 225.1+ KB\n",
      "None\n"
     ]
    }
   ],
   "source": [
    "# description and information\n",
    "print('description --\\n', train.describe(), '\\n\\n', 'information --\\n')\n",
    "print(train.info())"
   ]
  },
  {
   "cell_type": "code",
   "execution_count": 12,
   "metadata": {},
   "outputs": [],
   "source": [
    "# all columns are categorical variable\n",
    "for i in train.columns:\n",
    "    train[i] = train[i].astype(\"category\")"
   ]
  },
  {
   "cell_type": "code",
   "execution_count": 14,
   "metadata": {},
   "outputs": [
    {
     "data": {
      "text/plain": [
       "x01         0\n",
       "a08a01      0\n",
       "a08a02      0\n",
       "k_a08a_1    0\n",
       "k_a08a_2    0\n",
       "k_a08a_3    0\n",
       "k_a08a_4    0\n",
       "k_a08a_5    0\n",
       "fix         0\n",
       "dtype: int64"
      ]
     },
     "execution_count": 14,
     "metadata": {},
     "output_type": "execute_result"
    }
   ],
   "source": [
    "# no missing values\n",
    "train.isnull().sum()"
   ]
  },
  {
   "cell_type": "code",
   "execution_count": 42,
   "metadata": {},
   "outputs": [
    {
     "name": "stdout",
     "output_type": "stream",
     "text": [
      "a08a01: 64\n",
      "a08a02: 119\n",
      "k_a08a_1: 2445\n",
      "k_a08a_2: 2399\n",
      "k_a08a_3: 790\n",
      "k_a08a_4: 792\n",
      "k_a08a_5: 2862\n",
      "fix: 2\n"
     ]
    }
   ],
   "source": [
    "# unique values\n",
    "for i in train.columns[1:] :\n",
    "    print(\"%s: %s\" % (i, len(train[i].value_counts())))"
   ]
  }
 ],
 "metadata": {
  "kernelspec": {
   "display_name": "Python 3",
   "language": "python",
   "name": "python3"
  },
  "language_info": {
   "codemirror_mode": {
    "name": "ipython",
    "version": 3
   },
   "file_extension": ".py",
   "mimetype": "text/x-python",
   "name": "python",
   "nbconvert_exporter": "python",
   "pygments_lexer": "ipython3",
   "version": "3.7.3"
  }
 },
 "nbformat": 4,
 "nbformat_minor": 2
}
