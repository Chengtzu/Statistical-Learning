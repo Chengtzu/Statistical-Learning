{
 "cells": [
  {
   "cell_type": "code",
   "execution_count": 397,
   "metadata": {},
   "outputs": [
    {
     "data": {
      "text/plain": [
       "'\\n@ Title: Assignment 3 第一題\\n@ Author: 商研1 鄭子萱 r07741023\\n@ Date: 2019/4/6\\n'"
      ]
     },
     "execution_count": 397,
     "metadata": {},
     "output_type": "execute_result"
    }
   ],
   "source": [
    "\"\"\"\n",
    "@ Title: Assignment 3 第一題\n",
    "@ Author: 商研1 鄭子萱 r07741023\n",
    "@ Date: 2019/4/6\n",
    "\"\"\""
   ]
  },
  {
   "cell_type": "markdown",
   "metadata": {},
   "source": [
    "# Q1.1"
   ]
  },
  {
   "cell_type": "markdown",
   "metadata": {},
   "source": [
    "1.fit():<br>\n",
    "train出模型需要的參數(mu, cov) <br>\n",
    "Prior定義為 outcome的比率 <br>\n",
    "因為沒有限制為線性分類器，故此題並沒有使用share covariance <br>\n",
    "        <br>\n",
    "2.pred(): <br>\n",
    "帶入test的每一筆資料 given mu and cov 求出likelihood 在與prior 相乘得到posterior <br>\n",
    "算出每一個類別的posterior 比較出最大值即將此筆資料分到該類別"
   ]
  },
  {
   "cell_type": "code",
   "execution_count": 388,
   "metadata": {},
   "outputs": [],
   "source": [
    "import pandas\n",
    "import pickle\n",
    "with open('phone_train.pickle', 'rb') as file:\n",
    "    traindata = pickle.load(file)\n",
    "with open('phone_test1.pickle', 'rb') as file:\n",
    "    testdata = pickle.load(file)"
   ]
  },
  {
   "cell_type": "code",
   "execution_count": 389,
   "metadata": {},
   "outputs": [],
   "source": [
    "X_train = traindata[['x','y','z']].values # convert to nd-array\n",
    "y_train = traindata[['label']].values.ravel()\n",
    "X_test = testdata[['x','y','z']].values\n",
    "y_test = testdata[['label']].values.ravel()"
   ]
  },
  {
   "cell_type": "code",
   "execution_count": 392,
   "metadata": {},
   "outputs": [],
   "source": [
    "from scipy.stats import multivariate_normal\n",
    "import numpy as np\n",
    "\n",
    "class mypgc:\n",
    "    \n",
    "    def __int__(self):\n",
    "        pass\n",
    "\n",
    "        \n",
    "    def fit(self, x_train, y_train):\n",
    "        self.x_train = x_train.copy()\n",
    "        self.y_train = y_train.copy()\n",
    "        \n",
    "        self.K = len(set(self.y_train)) # assume classes ∈ {0, ..., K-1}\n",
    "        self.y_list = list(set(self.y_train))\n",
    "        self.gaussians = {}\n",
    "        \n",
    "\n",
    "        for k in range(self.K):\n",
    "            Xk   = self.x_train[self.y_train == self.y_list[k]]         # get all the Xi of class k\n",
    "            mu = Xk.mean(axis=0)   # compute their mean\n",
    "            cov  = np.cov(Xk.T)      # compute their covariance\n",
    "            prec = np.linalg.inv(cov) # compute the inverse of cov\n",
    "            detcov = np.log(np.linalg.det(prec)) #compute the log of determinant of cov\n",
    "            n = len(Xk) # number of observations in each label\n",
    "            prior = n / len(self.x_train)\n",
    "\n",
    "            self.gaussians[self.y_list[k]] = {\n",
    "                                                \"mu\": mu,\n",
    "                                                \"cov\": cov,\n",
    "                                                \"prec\": prec,\n",
    "                                                \"detcov\": detcov,\n",
    "                                                \"n\": n,\n",
    "                                                \"prior\": prior}\n",
    "        \n",
    "        return self.gaussians\n",
    "            \n",
    "            \n",
    "            \n",
    "    def pred(self, x_test):\n",
    "        y_pred = []\n",
    "        \n",
    "        for j in range(x_test.shape[0]):\n",
    "            prob_vect = np.zeros(self.K)\n",
    "\n",
    "            for i in range(self.K):\n",
    "                g = self.gaussians[self.y_list[i]]\n",
    "                #mnormal = multivariate_normal(mean = g['mu'], cov = g['cov']) #likelihood\n",
    "                prior = g['prior']\n",
    "                prob_vect[i] = prior * multivariate_normal.pdf(x = x_test[j], mean = g['mu'], cov = g['cov'])\n",
    "                \n",
    "            tmp = np.argmax(prob_vect)\n",
    "            y_hat = self.y_list[tmp]       \n",
    "            y_pred.append(y_hat)\n",
    "                    \n",
    "        return y_pred\n",
    "        "
   ]
  },
  {
   "cell_type": "markdown",
   "metadata": {},
   "source": [
    "# Q1.2"
   ]
  },
  {
   "cell_type": "code",
   "execution_count": 396,
   "metadata": {},
   "outputs": [
    {
     "data": {
      "text/plain": [
       "{'Phoneontop': {'mu': array([ 8.13769555e-04, -9.69990841e+00, -1.00215800e-01]),\n",
       "  'cov': array([[ 0.00184664,  0.00529325, -0.00601384],\n",
       "         [ 0.00529325,  0.02519526, -0.02792123],\n",
       "         [-0.00601384, -0.02792123,  0.0331182 ]]),\n",
       "  'prec': array([[1380.20106989, -186.01874711,   93.79832935],\n",
       "         [-186.01874711,  629.12383998,  496.62195539],\n",
       "         [  93.79832935,  496.62195539,  465.9185559 ]]),\n",
       "  'detcov': 17.04131855952812,\n",
       "  'n': 26401,\n",
       "  'prior': 0.15799804903738546},\n",
       " 'Phoneonleft': {'mu': array([ 9.92639446,  0.09275717, -0.01933473]),\n",
       "  'cov': array([[ 0.00192839, -0.00619274,  0.00063551],\n",
       "         [-0.00619274,  0.03200844, -0.00317611],\n",
       "         [ 0.00063551, -0.00317611,  0.00171996]]),\n",
       "  'prec': array([[1369.95113577,  263.0134811 ,  -20.49603676],\n",
       "         [ 263.0134811 ,   88.74589895,   66.6992188 ],\n",
       "         [ -20.49603676,   66.6992188 ,  712.14869845]]),\n",
       "  'detcov': 17.232141935734493,\n",
       "  'n': 29522,\n",
       "  'prior': 0.17667582302494958},\n",
       " 'Phoneonright': {'mu': array([-9.64916017e+00,  7.86873275e-02, -7.71762134e-03]),\n",
       "  'cov': array([[ 0.00076675, -0.00067075,  0.00068673],\n",
       "         [-0.00067075,  0.00682422, -0.00627087],\n",
       "         [ 0.00068673, -0.00627087,  0.00773266]]),\n",
       "  'prec': array([[1432.0246564 ,   93.75083518,  -51.14931824],\n",
       "         [  93.75083518,  581.24293978,  463.03773646],\n",
       "         [ -51.14931824,  463.03773646,  509.36831176]]),\n",
       "  'detcov': 18.483699658255183,\n",
       "  'n': 25687,\n",
       "  'prior': 0.1537250818386925},\n",
       " 'Phoneonback': {'mu': array([ 0.20693328, -0.02615235,  9.7963762 ]),\n",
       "  'cov': array([[ 0.00299006, -0.00195813,  0.00284766],\n",
       "         [-0.00195813,  0.00229887, -0.0024254 ],\n",
       "         [ 0.00284766, -0.0024254 ,  0.0048876 ]]),\n",
       "  'prec': array([[ 943.63669582,  469.54782044, -316.78479596],\n",
       "         [ 469.54782044, 1146.63145078,  295.42598486],\n",
       "         [-316.78479596,  295.42598486,  535.76812508]]),\n",
       "  'detcov': 18.9875162403822,\n",
       "  'n': 28566,\n",
       "  'prior': 0.17095459523510295},\n",
       " 'Phoneonfront': {'mu': array([ 0.11270401,  0.14265129, -9.73579633]),\n",
       "  'cov': array([[ 0.00173617, -0.00562249,  0.00071319],\n",
       "         [-0.00562249,  0.03069977, -0.00386164],\n",
       "         [ 0.00071319, -0.00386164,  0.00185582]]),\n",
       "  'prec': array([[1415.5956848 ,  258.4845593 ,   -6.15206605],\n",
       "         [ 258.4845593 ,   91.32078358,   90.68682325],\n",
       "         [  -6.15206605,   90.68682325,  729.91124637]]),\n",
       "  'detcov': 17.331692277173115,\n",
       "  'n': 29079,\n",
       "  'prior': 0.1740246683064328},\n",
       " 'Phoneonbottom': {'mu': array([0.19076794, 9.78584734, 0.1465572 ]),\n",
       "  'cov': array([[ 0.00273883, -0.0044379 ,  0.00151984],\n",
       "         [-0.0044379 ,  0.01026786, -0.00328148],\n",
       "         [ 0.00151984, -0.00328148,  0.00247968]]),\n",
       "  'prec': array([[1229.24902343,  503.42022589,  -87.22678994],\n",
       "         [ 503.42022589,  374.93550309,  187.61601574],\n",
       "         [ -87.22678994,  187.61601574,  705.02302834]]),\n",
       "  'detcov': 18.24230757192601,\n",
       "  'n': 27842,\n",
       "  'prior': 0.1666217825574367}}"
      ]
     },
     "execution_count": 396,
     "metadata": {},
     "output_type": "execute_result"
    }
   ],
   "source": [
    "# RUN\n",
    "bc = mypgc()\n",
    "bc.fit(X_train, y_train)\n",
    "#y_pred = bc.pred(X_test)"
   ]
  },
  {
   "cell_type": "markdown",
   "metadata": {},
   "source": [
    "# Q1.3"
   ]
  },
  {
   "cell_type": "code",
   "execution_count": 400,
   "metadata": {},
   "outputs": [
    {
     "name": "stdout",
     "output_type": "stream",
     "text": [
      "Accuracy: 1.0\n"
     ]
    }
   ],
   "source": [
    "# Accuracy\n",
    "hit = 0.\n",
    "for i in range(len(y_pred)):\n",
    "    if y_pred[i]== y_test[i]:\n",
    "        hit += 1\n",
    "print(\"Accuracy:\", hit/X_test.shape[0])"
   ]
  },
  {
   "cell_type": "code",
   "execution_count": null,
   "metadata": {},
   "outputs": [],
   "source": []
  }
 ],
 "metadata": {
  "kernelspec": {
   "display_name": "Python 3",
   "language": "python",
   "name": "python3"
  },
  "language_info": {
   "codemirror_mode": {
    "name": "ipython",
    "version": 3
   },
   "file_extension": ".py",
   "mimetype": "text/x-python",
   "name": "python",
   "nbconvert_exporter": "python",
   "pygments_lexer": "ipython3",
   "version": "3.7.3"
  },
  "toc": {
   "base_numbering": 1,
   "nav_menu": {},
   "number_sections": true,
   "sideBar": true,
   "skip_h1_title": false,
   "title_cell": "Table of Contents",
   "title_sidebar": "Contents",
   "toc_cell": false,
   "toc_position": {},
   "toc_section_display": true,
   "toc_window_display": false
  }
 },
 "nbformat": 4,
 "nbformat_minor": 2
}
