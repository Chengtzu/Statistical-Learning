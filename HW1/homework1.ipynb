{
 "cells": [
  {
   "cell_type": "code",
   "execution_count": 1,
   "metadata": {},
   "outputs": [
    {
     "data": {
      "text/plain": [
       "'\\nCreated on 2019/3/4\\n\\n@author: Tzu-Hsuan Cheng \\nID: r07741023\\n\\nHomework 1 \\n\\n'"
      ]
     },
     "execution_count": 1,
     "metadata": {},
     "output_type": "execute_result"
    }
   ],
   "source": [
    "\"\"\"\n",
    "Created on 2019/3/4\n",
    "\n",
    "@author: Tzu-Hsuan Cheng \n",
    "ID: r07741023\n",
    "\n",
    "Homework 1 \n",
    "\n",
    "\"\"\""
   ]
  },
  {
   "cell_type": "markdown",
   "metadata": {},
   "source": [
    "## 第一題 [myknn_regressor]"
   ]
  },
  {
   "cell_type": "markdown",
   "metadata": {},
   "source": [
    "Q1.1 Create your myknn_regressor."
   ]
  },
  {
   "cell_type": "code",
   "execution_count": 3,
   "metadata": {},
   "outputs": [],
   "source": [
    "import pickle\n",
    "import numpy as np\n",
    "\n",
    "#import the data\n",
    "data = pickle.load(open( \"msd_data1.pickle\", \"rb\" ) )\n",
    "X_train = data['X_train']\n",
    "y_train = data['Y_train']\n",
    "X_test = data['X_test']\n",
    "y_test = data['Y_test']"
   ]
  },
  {
   "cell_type": "code",
   "execution_count": 2,
   "metadata": {},
   "outputs": [],
   "source": [
    "class myKnn():\n",
    "    \n",
    "    def __init__(self, k, remove_outliers):\n",
    "        self.k = k\n",
    "        self.remove_outliers = remove_outliers\n",
    "        return\n",
    "    \n",
    "    def fit(self, X_train, Y_train):\n",
    "        self.X_train = X_train\n",
    "        self.Y_train = Y_train\n",
    "        return\n",
    "    \n",
    "    def predict(self, X_test):\n",
    "        # loop over all observations\n",
    "        predictions = []\n",
    "        for i in range(len(X_test)):\n",
    "            predictions.append(self.pre_predict(X_test[i, :]))\n",
    "            \n",
    "        return predictions\n",
    "    \n",
    "    def getOutliers(self, y):\n",
    "        q1 = np.percentile(y, 25)  #四分位數的算法\n",
    "        q3 = np.percentile(y, 75)\n",
    "        iqr = q3-q1\n",
    "        lower = q1 - 1.5 * iqr\n",
    "        upper = q3 + 1.5 * iqr\n",
    "                \n",
    "        y_temp = []\n",
    "        for i,v in enumerate(y):\n",
    "            if (v >= lower) and (v <= upper):\n",
    "                y_temp.append(v)\n",
    "        \n",
    "        return y_temp\n",
    "\n",
    "\n",
    "    def pre_predict(self, X_test):\n",
    "        # create list for distances and targets\n",
    "        distances = []\n",
    "        targets = []\n",
    "        total = 0\n",
    "\n",
    "        for i in range(len(self.X_train)):\n",
    "            # euclidean distance\n",
    "            distance = np.sqrt(np.sum(np.square(X_test - self.X_train[i, :])))\n",
    "            # add it to list of distances\n",
    "            distances.append([distance, i])\n",
    "            distances = sorted(distances)\n",
    "\n",
    "        # make a list of the k neighbors' targets\n",
    "        for i in range(self.k):\n",
    "            index = distances[i][1]\n",
    "            targets.append(self.Y_train[index])\n",
    "        \n",
    "        # check the outliers\n",
    "        if (self.k >= 10) and (self.remove_outliers == True):\n",
    "            y_temp = self.getOutliers(targets)\n",
    "            k_temp = len(y_temp)\n",
    "            \n",
    "        else: \n",
    "            k_temp = self.k\n",
    "            y_temp = targets\n",
    "                    \n",
    "        \n",
    "        # calculate the equal_weight   \n",
    "        for i in range(k_temp):\n",
    "            total = total + y_temp[i] \n",
    "                \n",
    "        predicts = total/k_temp\n",
    "        return predicts"
   ]
  },
  {
   "cell_type": "markdown",
   "metadata": {},
   "source": [
    "Q1.2 Load data from msd_data1.pickle. You should standardized all feature values so that all features have a zero mean and a unit variance before training a KNN model. Make predictions using  k=20  and \"equal_weight\"  f . List the RMSE and the first 20 predictions in the testing data."
   ]
  },
  {
   "cell_type": "code",
   "execution_count": 8,
   "metadata": {},
   "outputs": [],
   "source": [
    "#standardized all features\n",
    "from sklearn.preprocessing import StandardScaler\n",
    "\n",
    "x_train = StandardScaler().fit_transform(X_train)\n",
    "x_test = StandardScaler().fit_transform(X_test)\n",
    "\n",
    "\n",
    "#run\n",
    "myknn = myKnn(k=20, remove_outliers=False)\n",
    "myknn.fit(x_train, y_train)\n",
    "ypred = myknn.predict(x_test)"
   ]
  },
  {
   "cell_type": "code",
   "execution_count": 13,
   "metadata": {},
   "outputs": [
    {
     "data": {
      "text/plain": [
       "10.292158827638316"
      ]
     },
     "execution_count": 13,
     "metadata": {},
     "output_type": "execute_result"
    }
   ],
   "source": [
    "#RMSE\n",
    "def rmse(predictions, targets):\n",
    "    return np.sqrt(((predictions - targets) ** 2).mean())\n",
    "\n",
    "RMSE = rmse(ypred, y_test)"
   ]
  },
  {
   "cell_type": "code",
   "execution_count": 32,
   "metadata": {},
   "outputs": [
    {
     "name": "stdout",
     "output_type": "stream",
     "text": [
      "RMSE: 10.225720983625129\n",
      "    The first 20 predictions\n",
      "0                1992.900000\n",
      "1                1994.050000\n",
      "2                2000.050000\n",
      "3                1992.736842\n",
      "4                1992.800000\n",
      "5                2000.000000\n",
      "6                1987.100000\n",
      "7                1990.900000\n",
      "8                2001.800000\n",
      "9                2003.947368\n",
      "10               2001.150000\n",
      "11               2000.944444\n",
      "12               1995.550000\n",
      "13               1997.200000\n",
      "14               1998.611111\n",
      "15               1997.350000\n",
      "16               1992.150000\n",
      "17               2004.235294\n",
      "18               2003.600000\n",
      "19               1995.750000\n"
     ]
    }
   ],
   "source": [
    "# Answer\n",
    "import pandas as pd\n",
    "df = pd.DataFrame({\"The first 20 predictions\":ypred[0:20]})\n",
    "print(\"RMSE:\", RMSE)\n",
    "print(df)"
   ]
  },
  {
   "cell_type": "markdown",
   "metadata": {},
   "source": [
    "Q1.3 Load data from msd_data1.pickle. Standardized all feature values so that all features have a zero mean and unit variance. Make predictions using  k=20  and \"remove_outier\"  f . List the RMSE and the first 20 predictions in the testing data.\n"
   ]
  },
  {
   "cell_type": "code",
   "execution_count": null,
   "metadata": {},
   "outputs": [],
   "source": [
    "#run\n",
    "myknn = myKnn(k=20, remove_outliers=True)\n",
    "myknn.fit(x_train, y_train)\n",
    "ypred = myknn.predict(x_test)"
   ]
  },
  {
   "cell_type": "code",
   "execution_count": 3,
   "metadata": {},
   "outputs": [],
   "source": [
    "#RMSE\n",
    "def rmse(predictions, targets):\n",
    "    return np.sqrt(((predictions - targets) ** 2).mean())"
   ]
  },
  {
   "cell_type": "code",
   "execution_count": 33,
   "metadata": {},
   "outputs": [
    {
     "name": "stdout",
     "output_type": "stream",
     "text": [
      "RMSE: 10.225720983625129\n",
      "    The first 20 predictions\n",
      "0                1992.900000\n",
      "1                1994.050000\n",
      "2                2000.050000\n",
      "3                1992.736842\n",
      "4                1992.800000\n",
      "5                2000.000000\n",
      "6                1987.100000\n",
      "7                1990.900000\n",
      "8                2001.800000\n",
      "9                2003.947368\n",
      "10               2001.150000\n",
      "11               2000.944444\n",
      "12               1995.550000\n",
      "13               1997.200000\n",
      "14               1998.611111\n",
      "15               1997.350000\n",
      "16               1992.150000\n",
      "17               2004.235294\n",
      "18               2003.600000\n",
      "19               1995.750000\n"
     ]
    }
   ],
   "source": [
    "# Answer\n",
    "RMSE = rmse(ypred, y_test)\n",
    "df = pd.DataFrame({\"The first 20 predictions\":ypred[0:20]})\n",
    "print(\"RMSE:\", RMSE)\n",
    "print(df)"
   ]
  },
  {
   "cell_type": "markdown",
   "metadata": {},
   "source": [
    "## 第二題 Tuning the Hyper-parameter"
   ]
  },
  {
   "cell_type": "code",
   "execution_count": 11,
   "metadata": {},
   "outputs": [],
   "source": [
    "#case1\n",
    "from sklearn.preprocessing import StandardScaler\n",
    "from sklearn.neighbors import KNeighborsClassifier\n",
    "\n",
    "#standardize\n",
    "x_train = StandardScaler().fit_transform(X_train)\n",
    "x_test = StandardScaler().fit_transform(X_test)\n",
    "\n",
    "k = [1,2,3,4,5,10,15,20,25,30,35,40,45,50,55,60,80,100,120,140,160,180,200]\n",
    "RMSE_1 = []\n",
    "for i in k:\n",
    "    classifier = KNeighborsClassifier(n_neighbors=i)  \n",
    "    classifier.fit(x_train, y_train)  \n",
    "    y_pred = classifier.predict(x_test) \n",
    "    RMSE_1.append(rmse(y_pred, y_test))"
   ]
  },
  {
   "cell_type": "code",
   "execution_count": 12,
   "metadata": {},
   "outputs": [
    {
     "data": {
      "text/plain": [
       "[13.94019368588543,\n",
       " 15.495268094916375,\n",
       " 17.082125160529646,\n",
       " 18.003277479392466,\n",
       " 18.30347872218102,\n",
       " 14.972675111682616,\n",
       " 13.36068860500835,\n",
       " 12.92319619908326,\n",
       " 12.589691550365059,\n",
       " 12.425189468709656,\n",
       " 12.342109490142544,\n",
       " 12.24143237806208,\n",
       " 12.27539544508988,\n",
       " 12.345228497952828,\n",
       " 12.428529009232482,\n",
       " 12.410479442793498,\n",
       " 12.589691550365059,\n",
       " 12.752725198952575,\n",
       " 12.86747838544911,\n",
       " 12.947728243466754,\n",
       " 13.038200284804136,\n",
       " 13.118561913055359,\n",
       " 13.204898081141458]"
      ]
     },
     "execution_count": 12,
     "metadata": {},
     "output_type": "execute_result"
    }
   ],
   "source": [
    "RMSE_1 "
   ]
  },
  {
   "cell_type": "code",
   "execution_count": 13,
   "metadata": {},
   "outputs": [],
   "source": [
    "#case2\n",
    "\n",
    "#import the data again\n",
    "data = pickle.load(open( \"msd_data1.pickle\", \"rb\" ) )\n",
    "X_train = data['X_train']\n",
    "y_train = data['Y_train']\n",
    "X_test = data['X_test']\n",
    "y_test = data['Y_test']\n",
    "\n",
    "k = [1,2,3,4,5,10,15,20,25,30,35,40,45,50,55,60,80,100,120,140,160,180,200]\n",
    "RMSE_2 = []\n",
    "for i in k:\n",
    "    classifier = KNeighborsClassifier(n_neighbors=i)  \n",
    "    classifier.fit(X_train, y_train)  \n",
    "    y_pred = classifier.predict(X_test) \n",
    "    RMSE_2.append(rmse(y_pred, y_test))\n"
   ]
  },
  {
   "cell_type": "code",
   "execution_count": 14,
   "metadata": {},
   "outputs": [
    {
     "data": {
      "text/plain": [
       "[14.923638966418345,\n",
       " 16.527219971913002,\n",
       " 17.958025132699493,\n",
       " 18.922209173349714,\n",
       " 19.2830149786455,\n",
       " 15.532492824184189,\n",
       " 13.574596372145534,\n",
       " 13.365228517811932,\n",
       " 13.05419472813241,\n",
       " 12.818775292515271,\n",
       " 12.52252636917434,\n",
       " 12.618953997855765,\n",
       " 12.639356523705363,\n",
       " 12.519278466961797,\n",
       " 12.599576712466707,\n",
       " 12.60072749222573,\n",
       " 12.871764965743173,\n",
       " 13.047745654582123,\n",
       " 13.095648132108622,\n",
       " 13.170143000995344,\n",
       " 13.196754651554803,\n",
       " 13.26514229098203,\n",
       " 13.213793298418638]"
      ]
     },
     "execution_count": 14,
     "metadata": {},
     "output_type": "execute_result"
    }
   ],
   "source": [
    "RMSE_2 "
   ]
  },
  {
   "cell_type": "code",
   "execution_count": null,
   "metadata": {},
   "outputs": [],
   "source": [
    "#case 3\n",
    "\n",
    "#standardize\n",
    "from sklearn.preprocessing import StandardScaler\n",
    "x_train = StandardScaler().fit_transform(X_train)\n",
    "x_test = StandardScaler().fit_transform(X_test)\n",
    "\n",
    "RMSE_3 = []\n",
    "k = [1,2,3,4,5,10,15,20,25,30,35,40,45,50,55,60,80,100,120,140,160,180,200]\n",
    "\n",
    "for i in k:\n",
    "    print(i)\n",
    "    myknn = myKnn(k=i, remove_outliers=True)\n",
    "    myknn.fit(x_train, y_train)\n",
    "    ypred = myknn.predict(x_test)\n",
    "    RMSE_3.append(rmse(ypred, y_test))\n",
    "    print(RMSE_3)"
   ]
  },
  {
   "cell_type": "code",
   "execution_count": 21,
   "metadata": {},
   "outputs": [
    {
     "data": {
      "text/plain": [
       "<matplotlib.legend.Legend at 0x114712d30>"
      ]
     },
     "execution_count": 21,
     "metadata": {},
     "output_type": "execute_result"
    },
    {
     "data": {
      "image/png": "[encoded data removed]",
      "text/plain": [
       "<Figure size 432x288 with 1 Axes>"
      ]
     },
     "metadata": {},
     "output_type": "display_data"
    }
   ],
   "source": [
    "# plot the curves of 3 cases\n",
    "import matplotlib.pyplot as plt\n",
    "\n",
    "plt.plot(k, RMSE_1)\n",
    "plt.plot(k, RMSE_2)\n",
    "#plt.plot(k, RMSE_3) # 結果跑不出來\n",
    "\n",
    "plt.ylabel('RMSE')\n",
    "plt.xlabel('k')\n",
    "plt.xlim(1,)\n",
    "\n",
    "plt.legend(['case_1', 'case_2'], loc='upper right') #case 3\n"
   ]
  },
  {
   "cell_type": "markdown",
   "metadata": {},
   "source": [
    "My observations:\n",
    "1. 從k=20 myKnn 與 套件的模型，雖然目前自己的模型結果還沒跑出來，但可以猜測其表現應該是最好的\n",
    "因為有加入移除outliers這個限制\n",
    "2. 但也因此自己的模型跑的時間比起套件慢很多，改善空間很大\n",
    "3. 比較case1 與case2可以明顯看出有標準化的結果比較好"
   ]
  },
  {
   "cell_type": "code",
   "execution_count": null,
   "metadata": {},
   "outputs": [],
   "source": []
  }
 ],
 "metadata": {
  "kernelspec": {
   "display_name": "Python 3",
   "language": "python",
   "name": "python3"
  },
  "language_info": {
   "codemirror_mode": {
    "name": "ipython",
    "version": 3
   },
   "file_extension": ".py",
   "mimetype": "text/x-python",
   "name": "python",
   "nbconvert_exporter": "python",
   "pygments_lexer": "ipython3",
   "version": "3.7.3"
  }
 },
 "nbformat": 4,
 "nbformat_minor": 2
}
